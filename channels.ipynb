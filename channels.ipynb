{
 "cells": [
  {
   "cell_type": "markdown",
   "metadata": {},
   "source": [
    "Comments from [Go by Example](https://gobyexample.com/worker-pools)."
   ]
  },
  {
   "cell_type": "markdown",
   "metadata": {},
   "source": [
    "# Channels\n",
    "Channels are the pipes that connect concurrent goroutines. You can send values into channels from one goroutine and receive those values into another goroutine."
   ]
  },
  {
   "cell_type": "code",
   "execution_count": 15,
   "metadata": {},
   "outputs": [],
   "source": [
    "import \"fmt\""
   ]
  },
  {
   "cell_type": "code",
   "execution_count": 19,
   "metadata": {},
   "outputs": [],
   "source": [
    "messages := make(chan string) // Create a new unbuffered channel\n",
    "\n",
    "go func() { messages <- \"ping\" }() // In separate go-routine, put the value \"ping\" in our channel (so our code doesn't block, more on this later)\n",
    "\n",
    "msg := <-messages // Get our value from the channel, and put it in the variable msg\n",
    ";"
   ]
  },
  {
   "cell_type": "code",
   "execution_count": 20,
   "metadata": {},
   "outputs": [
    {
     "data": {
      "text/plain": [
       "ping"
      ]
     },
     "execution_count": 20,
     "metadata": {},
     "output_type": "execute_result"
    }
   ],
   "source": [
    "msg"
   ]
  },
  {
   "cell_type": "markdown",
   "metadata": {},
   "source": [
    "## Unbuffered channels\n",
    "\n",
    "By default channels are unbuffered, meaning that they will only accept sends (chan <-) if there is a corresponding receive (<- chan) ready to receive the sent value.\n",
    "- A send to a buffered channels block\n",
    "- A receive to a buffered channels blocks, until we actually receive a value from the channel"
   ]
  },
  {
   "cell_type": "code",
   "execution_count": 21,
   "metadata": {},
   "outputs": [],
   "source": [
    "import \"fmt\""
   ]
  },
  {
   "cell_type": "code",
   "execution_count": 22,
   "metadata": {},
   "outputs": [],
   "source": [
    "messages := make(chan string)\n",
    "\n",
    "blockText := \"NOT UPDATED\" // We will use this to know when the code below stopped blocking\n",
    "\n",
    "go func() {\n",
    "    messages <- \"hello\" // Note how the code just blocks here\n",
    "    \n",
    "    blockText = \"UPDATED\"\n",
    "}()\n",
    ";"
   ]
  },
  {
   "cell_type": "code",
   "execution_count": 23,
   "metadata": {},
   "outputs": [
    {
     "name": "stdout",
     "output_type": "stream",
     "text": [
      "The channel now has an element in it\n"
     ]
    },
    {
     "data": {
      "text/plain": [
       "37 <nil>"
      ]
     },
     "execution_count": 23,
     "metadata": {},
     "output_type": "execute_result"
    }
   ],
   "source": [
    "fmt.Printf(\"The channel now has an element in it\\n\")"
   ]
  },
  {
   "cell_type": "markdown",
   "metadata": {},
   "source": [
    "The code above is blocking, because the value that is in the channel has not been read yet"
   ]
  },
  {
   "cell_type": "code",
   "execution_count": 24,
   "metadata": {},
   "outputs": [
    {
     "name": "stdout",
     "output_type": "stream",
     "text": [
      "We can see that the value of our 'blockText' is:\n",
      "NOT UPDATED\n"
     ]
    },
    {
     "data": {
      "text/plain": [
       "61 <nil>"
      ]
     },
     "execution_count": 24,
     "metadata": {},
     "output_type": "execute_result"
    }
   ],
   "source": [
    "fmt.Printf(\"We can see that the value of our 'blockText' is:\\n%s\\n\", blockText)"
   ]
  },
  {
   "cell_type": "markdown",
   "metadata": {},
   "source": [
    "Let's read from the channel to unblock the goroutine's code"
   ]
  },
  {
   "cell_type": "code",
   "execution_count": 25,
   "metadata": {},
   "outputs": [],
   "source": [
    "msg := <-messages"
   ]
  },
  {
   "cell_type": "code",
   "execution_count": 26,
   "metadata": {},
   "outputs": [
    {
     "name": "stdout",
     "output_type": "stream",
     "text": [
      "We can see that the value of our 'blockText' is now:\n",
      "UPDATED\n"
     ]
    },
    {
     "data": {
      "text/plain": [
       "61 <nil>"
      ]
     },
     "execution_count": 26,
     "metadata": {},
     "output_type": "execute_result"
    }
   ],
   "source": [
    "fmt.Printf(\"We can see that the value of our 'blockText' is now:\\n%s\\n\", blockText)"
   ]
  },
  {
   "cell_type": "markdown",
   "metadata": {},
   "source": [
    "## Buffered channels\n",
    "Buffered channels accept a limited number of values without a corresponding receiver for those values.\n",
    "Because this channel is buffered, we can send these values into the channel without a corresponding concurrent receive, until the channel gets full, then it blocks."
   ]
  },
  {
   "cell_type": "code",
   "execution_count": 27,
   "metadata": {},
   "outputs": [],
   "source": [
    "import \"fmt\""
   ]
  },
  {
   "cell_type": "code",
   "execution_count": 28,
   "metadata": {},
   "outputs": [],
   "source": [
    "fruitChan := make(chan string, 3)\n",
    "\n",
    "fruits := []string{\"apple\", \"orange\", \"grape\", \"watermelon\", \"avocado\", \"grapefruit\", \"banana\"}\n",
    "\n",
    "nextFruit := \"\"\n",
    "\n",
    "go func() {\n",
    "    for _, f := range fruits {\n",
    "        nextFruit = f\n",
    "        fruitChan <- nextFruit\n",
    "    }\n",
    "    nextFruit = \"\"\n",
    "}()\n",
    "\n",
    ";"
   ]
  },
  {
   "cell_type": "markdown",
   "metadata": {},
   "source": [
    "Note how the above goroutine was able to put multiple items in the channel without blocking.\n",
    "The blocking only happend once the channel was full."
   ]
  },
  {
   "cell_type": "code",
   "execution_count": 29,
   "metadata": {},
   "outputs": [
    {
     "name": "stdout",
     "output_type": "stream",
     "text": [
      "The channel is now full with '3' elements\n",
      "There is a 'watermelon' waiting for a slot in the channel\n"
     ]
    },
    {
     "data": {
      "text/plain": [
       "58 <nil>"
      ]
     },
     "execution_count": 29,
     "metadata": {},
     "output_type": "execute_result"
    }
   ],
   "source": [
    "fmt.Printf(\"The channel is now full with '%d' elements\\n\", len(fruitChan))\n",
    "fmt.Printf(\"There is a '%s' waiting for a slot in the channel\\n\", nextFruit)"
   ]
  },
  {
   "cell_type": "markdown",
   "metadata": {},
   "source": [
    "Let's keep track of the fruits we get from the channel in the `basket` slice, and read one element from the channel"
   ]
  },
  {
   "cell_type": "code",
   "execution_count": 30,
   "metadata": {},
   "outputs": [
    {
     "name": "stdout",
     "output_type": "stream",
     "text": [
      "Our basket now has: [apple]\n",
      "There is a 'watermelon' waiting for a slot in the channel\n"
     ]
    },
    {
     "data": {
      "text/plain": [
       "58 <nil>"
      ]
     },
     "execution_count": 30,
     "metadata": {},
     "output_type": "execute_result"
    }
   ],
   "source": [
    "basket := []string{}\n",
    "basket = append(basket, <-fruitChan)\n",
    "fmt.Printf(\"Our basket now has: %s\\n\", basket)\n",
    "fmt.Printf(\"There is a '%s' waiting for a slot in the channel\\n\", nextFruit)"
   ]
  },
  {
   "cell_type": "markdown",
   "metadata": {},
   "source": [
    "Let's read another element from the channel"
   ]
  },
  {
   "cell_type": "code",
   "execution_count": 31,
   "metadata": {},
   "outputs": [
    {
     "name": "stdout",
     "output_type": "stream",
     "text": [
      "Our basket now has: [apple orange]\n",
      "There is a 'avocado' waiting for a slot in the channel\n"
     ]
    },
    {
     "data": {
      "text/plain": [
       "55 <nil>"
      ]
     },
     "execution_count": 31,
     "metadata": {},
     "output_type": "execute_result"
    }
   ],
   "source": [
    "basket = append(basket, <-fruitChan)\n",
    "fmt.Printf(\"Our basket now has: %s\\n\", basket)\n",
    "fmt.Printf(\"There is a '%s' waiting for a slot in the channel\\n\", nextFruit)"
   ]
  },
  {
   "cell_type": "markdown",
   "metadata": {},
   "source": [
    "Let's now iterate over each element as they are received from the channel"
   ]
  },
  {
   "cell_type": "code",
   "execution_count": 32,
   "metadata": {},
   "outputs": [],
   "source": [
    "go func() {\n",
    "    for f := range fruitChan { // fruitChan emptying loop\n",
    "        basket = append(basket, f)\n",
    "    }\n",
    "    basket = append(basket, \"olive\") // We will use this condition to know if the code above is blocking or not\n",
    "}()"
   ]
  },
  {
   "cell_type": "code",
   "execution_count": 33,
   "metadata": {},
   "outputs": [
    {
     "name": "stdout",
     "output_type": "stream",
     "text": [
      "Our basket now has: [apple orange grape watermelon avocado grapefruit banana]\n"
     ]
    },
    {
     "data": {
      "text/plain": [
       "78 <nil>"
      ]
     },
     "execution_count": 33,
     "metadata": {},
     "output_type": "execute_result"
    }
   ],
   "source": [
    "fmt.Printf(\"Our basket now has: %s\\n\", basket)"
   ]
  },
  {
   "cell_type": "markdown",
   "metadata": {},
   "source": [
    "Note that the `fruitChan emptying loop` above is still blocking though, we know it is blocking because the last element in `basket` is not `\"olive\"`.\n",
    "If we close the channel the `fruitChan emptying loop`, will no longer block. And the \"olive\" will be appended to the end of the `basket`"
   ]
  },
  {
   "cell_type": "code",
   "execution_count": 34,
   "metadata": {},
   "outputs": [
    {
     "name": "stdout",
     "output_type": "stream",
     "text": [
      "Our basket now has: [apple orange grape watermelon avocado grapefruit banana]\n"
     ]
    },
    {
     "data": {
      "text/plain": [
       "78 <nil>"
      ]
     },
     "execution_count": 34,
     "metadata": {},
     "output_type": "execute_result"
    }
   ],
   "source": [
    "close(fruitChan)\n",
    "fmt.Printf(\"Our basket now has: %s\\n\", basket)"
   ]
  },
  {
   "cell_type": "markdown",
   "metadata": {},
   "source": [
    "Note how we can now see `\"olive\"` at the end of out basket"
   ]
  },
  {
   "cell_type": "markdown",
   "metadata": {},
   "source": [
    "## Notes (from https://dave.cheney.net/2013/04/30/curious-channels)"
   ]
  },
  {
   "cell_type": "markdown",
   "metadata": {},
   "source": [
    "#### Writing to a closed channel cauises a panic"
   ]
  },
  {
   "cell_type": "markdown",
   "metadata": {},
   "source": [
    "#### Reading from a closed channel *never* blocks, if the channel is empty, it returns the zero value of the channel's type"
   ]
  },
  {
   "cell_type": "code",
   "execution_count": 35,
   "metadata": {},
   "outputs": [
    {
     "name": "stdout",
     "output_type": "stream",
     "text": [
      "v: true, ok: true\n",
      "v: true, ok: true\n",
      "v: false, ok: false\n"
     ]
    }
   ],
   "source": [
    "ch := make(chan bool, 2)\n",
    "ch <- true\n",
    "ch <- true\n",
    "close(ch)\n",
    "\n",
    "for i := 0; i < cap(ch) +1 ; i++ {\n",
    "        // ok is a boolean reporting whether the communication succeeded.\n",
    "        //   true: received value was sent on the channel\n",
    "        //   false: v is zero value because the channel is closed and empty\n",
    "        v, ok := <- ch \n",
    "    fmt.Printf(\"v: %v, ok: %v\\n\", v, ok)\n",
    "}"
   ]
  },
  {
   "cell_type": "markdown",
   "metadata": {},
   "source": [
    "#### A nil channel always blocks"
   ]
  },
  {
   "cell_type": "code",
   "execution_count": 36,
   "metadata": {},
   "outputs": [],
   "source": [
    "go func() {\n",
    "        var ch chan bool\n",
    "        ch <- true // blocks forever\n",
    "    \n",
    "        fmt.Println(\"never printed\")\n",
    "}()\n",
    "go func() {\n",
    "        var ch chan bool\n",
    "        <- ch // also blocks forever\n",
    "    \n",
    "        fmt.Println(\"also never printed\")\n",
    "}()"
   ]
  }
 ],
 "metadata": {
  "kernelspec": {
   "display_name": "Go",
   "language": "go",
   "name": "gophernotes"
  },
  "language_info": {
   "codemirror_mode": "",
   "file_extension": ".go",
   "mimetype": "",
   "name": "go",
   "nbconvert_exporter": "",
   "pygments_lexer": "",
   "version": "go1.11.4"
  }
 },
 "nbformat": 4,
 "nbformat_minor": 2
}
